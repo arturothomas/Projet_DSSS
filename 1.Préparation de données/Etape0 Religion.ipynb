{
 "cells": [
  {
   "cell_type": "code",
   "execution_count": 1,
   "metadata": {},
   "outputs": [
    {
     "name": "stderr",
     "output_type": "stream",
     "text": [
      "C:\\Users\\annan\\anaconda3\\lib\\site-packages\\pandas\\core\\computation\\expressions.py:20: UserWarning: Pandas requires version '2.7.3' or newer of 'numexpr' (version '2.7.1' currently installed).\n",
      "  from pandas.core.computation.check import NUMEXPR_INSTALLED\n"
     ]
    }
   ],
   "source": [
    "import pandas as pd # library for data analysis\n",
    "import requests # library to handle requests\n",
    "from bs4 import BeautifulSoup # library to parse HTML documents\n",
    "import pycountry\n"
   ]
  },
  {
   "cell_type": "code",
   "execution_count": 59,
   "metadata": {},
   "outputs": [
    {
     "name": "stdout",
     "output_type": "stream",
     "text": [
      "200\n"
     ]
    }
   ],
   "source": [
    "# get the response in the form of html\n",
    "wikiurl=\"https://en.wikipedia.org/wiki/Religions_by_country\"\n",
    "table_class=\"wikitable sortable jquery-tablesorter\"\n",
    "response=requests.get(wikiurl)\n",
    "print(response.status_code)"
   ]
  },
  {
   "cell_type": "code",
   "execution_count": 60,
   "metadata": {},
   "outputs": [],
   "source": [
    "# parse data from the html into a beautifulsoup object\n",
    "soup = BeautifulSoup(response.text, 'html.parser')"
   ]
  },
  {
   "cell_type": "code",
   "execution_count": 61,
   "metadata": {},
   "outputs": [],
   "source": [
    "table_name = 'wikitable sortable' \n",
    "soup_table = soup.find_all('table')"
   ]
  },
  {
   "cell_type": "code",
   "execution_count": 62,
   "metadata": {},
   "outputs": [],
   "source": [
    "url=\"https://en.wikipedia.org/wiki/Religions_by_country\"\n",
    "soup = BeautifulSoup(response.text, 'html.parser')\n",
    "table=soup.find_all('table',{'class':\"wikitable\"})"
   ]
  },
  {
   "cell_type": "code",
   "execution_count": 63,
   "metadata": {},
   "outputs": [
    {
     "data": {
      "text/html": [
       "<div>\n",
       "<style scoped>\n",
       "    .dataframe tbody tr th:only-of-type {\n",
       "        vertical-align: middle;\n",
       "    }\n",
       "\n",
       "    .dataframe tbody tr th {\n",
       "        vertical-align: top;\n",
       "    }\n",
       "\n",
       "    .dataframe thead th {\n",
       "        text-align: right;\n",
       "    }\n",
       "</style>\n",
       "<table border=\"1\" class=\"dataframe\">\n",
       "  <thead>\n",
       "    <tr style=\"text-align: right;\">\n",
       "      <th></th>\n",
       "      <th>Country</th>\n",
       "      <th>Population</th>\n",
       "      <th>Christian Population &amp; %</th>\n",
       "      <th>Muslim Population &amp; %</th>\n",
       "      <th>Unaffiliated Population &amp; %</th>\n",
       "      <th>Hindu Population &amp; %</th>\n",
       "      <th>Buddhist Population &amp; %</th>\n",
       "      <th>Folk Religion Population &amp; %</th>\n",
       "      <th>Other Religion Population &amp; %</th>\n",
       "      <th>Jewish Population &amp; %</th>\n",
       "    </tr>\n",
       "  </thead>\n",
       "  <tbody>\n",
       "    <tr>\n",
       "      <th>0</th>\n",
       "      <td>World</td>\n",
       "      <td>6895806200</td>\n",
       "      <td>2172804407</td>\n",
       "      <td>1598145602</td>\n",
       "      <td>1125764242</td>\n",
       "      <td>1032750475</td>\n",
       "      <td>488087716</td>\n",
       "      <td>404663436</td>\n",
       "      <td>58789445</td>\n",
       "      <td>13653580</td>\n",
       "    </tr>\n",
       "    <tr>\n",
       "      <th>1</th>\n",
       "      <td>World</td>\n",
       "      <td>100%</td>\n",
       "      <td>31.51 %</td>\n",
       "      <td>23.18 %</td>\n",
       "      <td>16.33 %</td>\n",
       "      <td>14.98 %</td>\n",
       "      <td>7.08 %</td>\n",
       "      <td>5.87 %</td>\n",
       "      <td>0.85 %</td>\n",
       "      <td>0.20 %</td>\n",
       "    </tr>\n",
       "  </tbody>\n",
       "</table>\n",
       "</div>"
      ],
      "text/plain": [
       "  Country  Population Christian Population & % Muslim Population & %  \\\n",
       "0   World  6895806200               2172804407            1598145602   \n",
       "1   World        100%                  31.51 %               23.18 %   \n",
       "\n",
       "  Unaffiliated Population & % Hindu Population & % Buddhist Population & %  \\\n",
       "0                  1125764242           1032750475               488087716   \n",
       "1                     16.33 %              14.98 %                  7.08 %   \n",
       "\n",
       "  Folk Religion Population & % Other Religion Population & %  \\\n",
       "0                    404663436                      58789445   \n",
       "1                       5.87 %                        0.85 %   \n",
       "\n",
       "  Jewish Population & %  \n",
       "0              13653580  \n",
       "1                0.20 %  "
      ]
     },
     "execution_count": 63,
     "metadata": {},
     "output_type": "execute_result"
    }
   ],
   "source": [
    "#world\n",
    "world=pd.read_html(str(table[0]))\n",
    "# convert list to dataframe\n",
    "world=pd.DataFrame(world[0])\n",
    "world"
   ]
  },
  {
   "cell_type": "code",
   "execution_count": 64,
   "metadata": {},
   "outputs": [],
   "source": [
    "#central africa\n",
    "central_africa = pd.read_html(str(table[1]))\n",
    "central_africa = pd.DataFrame(central_africa[0])\n",
    "central_africa = central_africa[:-1]"
   ]
  },
  {
   "cell_type": "code",
   "execution_count": 65,
   "metadata": {
    "scrolled": true
   },
   "outputs": [],
   "source": [
    "# eastern africa\n",
    "eastern_africa = pd.read_html(str(table[2]))\n",
    "eastern_africa = pd.DataFrame(eastern_africa[0])\n",
    "eastern_africa = eastern_africa[:-1]"
   ]
  },
  {
   "cell_type": "code",
   "execution_count": 66,
   "metadata": {},
   "outputs": [],
   "source": [
    "#northern africa\n",
    "northern_africa = pd.read_html(str(table[3]))\n",
    "northern_africa = pd.DataFrame(northern_africa[0])\n",
    "northern_africa = northern_africa[:-1]"
   ]
  },
  {
   "cell_type": "code",
   "execution_count": 67,
   "metadata": {},
   "outputs": [],
   "source": [
    "#southern africa\n",
    "southern_africa = pd.read_html(str(table[4]))\n",
    "southern_africa = pd.DataFrame(southern_africa[0])\n",
    "southern_africa = southern_africa[:-1]"
   ]
  },
  {
   "cell_type": "code",
   "execution_count": 68,
   "metadata": {},
   "outputs": [],
   "source": [
    "#western africa\n",
    "western_africa = pd.read_html(str(table[5]))\n",
    "western_africa = pd.DataFrame(western_africa[0])\n",
    "western_africa = western_africa[:-1]"
   ]
  },
  {
   "cell_type": "code",
   "execution_count": 69,
   "metadata": {},
   "outputs": [],
   "source": [
    "#carribean\n",
    "carribean = pd.read_html(str(table[6]))\n",
    "carribean = pd.DataFrame(carribean[0])\n",
    "carribean = carribean[:-1]"
   ]
  },
  {
   "cell_type": "code",
   "execution_count": 70,
   "metadata": {},
   "outputs": [],
   "source": [
    "#central america\n",
    "central_america = pd.read_html(str(table[7]))\n",
    "central_america = pd.DataFrame(central_america[0])\n",
    "central_america = central_america[:-1]"
   ]
  },
  {
   "cell_type": "code",
   "execution_count": 71,
   "metadata": {},
   "outputs": [],
   "source": [
    "#north america\n",
    "north_america = pd.read_html(str(table[8]))\n",
    "north_america = pd.DataFrame(north_america[0])\n",
    "north_america = north_america[:-1]"
   ]
  },
  {
   "cell_type": "code",
   "execution_count": 72,
   "metadata": {},
   "outputs": [],
   "source": [
    "# south america\n",
    "south_america = pd.read_html(str(table[9]))\n",
    "south_america = pd.DataFrame(south_america[0])\n",
    "south_america = south_america[:-1]"
   ]
  },
  {
   "cell_type": "code",
   "execution_count": 73,
   "metadata": {},
   "outputs": [],
   "source": [
    "# eastern asia\n",
    "eastern_asia = pd.read_html(str(table[10]))\n",
    "eastern_asia = pd.DataFrame(eastern_asia[0])\n",
    "eastern_asia = eastern_asia[:-1]"
   ]
  },
  {
   "cell_type": "code",
   "execution_count": 74,
   "metadata": {},
   "outputs": [],
   "source": [
    "# southeastern asia\n",
    "southeastern_asia = pd.read_html(str(table[11]))\n",
    "southeastern_asia = pd.DataFrame(southeastern_asia[0])\n",
    "southeastern_asia = southeastern_asia[:-1]"
   ]
  },
  {
   "cell_type": "code",
   "execution_count": 75,
   "metadata": {},
   "outputs": [],
   "source": [
    "# southern asia\n",
    "southern_asia = pd.read_html(str(table[12]))\n",
    "southern_asia = pd.DataFrame(southern_asia[0])\n",
    "southern_asia = southern_asia[:-1]"
   ]
  },
  {
   "cell_type": "code",
   "execution_count": 76,
   "metadata": {},
   "outputs": [],
   "source": [
    "# central asia\n",
    "central_asia = pd.read_html(str(table[13]))\n",
    "central_asia = pd.DataFrame(central_asia[0])\n",
    "central_asia = central_asia[:-1]"
   ]
  },
  {
   "cell_type": "code",
   "execution_count": 77,
   "metadata": {},
   "outputs": [],
   "source": [
    "# west asia\n",
    "west_asia = pd.read_html(str(table[14]))\n",
    "west_asia = pd.DataFrame(west_asia[0])\n",
    "west_asia = west_asia[:-1]"
   ]
  },
  {
   "cell_type": "code",
   "execution_count": 78,
   "metadata": {},
   "outputs": [],
   "source": [
    "# central europe\n",
    "central_europe = pd.read_html(str(table[15]))\n",
    "central_europe = pd.DataFrame(central_europe[0])\n",
    "central_europe = central_europe[:-1]"
   ]
  },
  {
   "cell_type": "code",
   "execution_count": 79,
   "metadata": {},
   "outputs": [],
   "source": [
    "# eastern europe\n",
    "eastern_europe = pd.read_html(str(table[16]))\n",
    "eastern_europe = pd.DataFrame(eastern_europe[0])\n",
    "eastern_europe = eastern_europe[:-1]"
   ]
  },
  {
   "cell_type": "code",
   "execution_count": 80,
   "metadata": {},
   "outputs": [],
   "source": [
    "# northern europe\n",
    "northern_europe = pd.read_html(str(table[17]))\n",
    "northern_europe = pd.DataFrame(northern_europe[0])\n",
    "northern_europe = northern_europe[:-1]"
   ]
  },
  {
   "cell_type": "code",
   "execution_count": 81,
   "metadata": {},
   "outputs": [],
   "source": [
    "# southeastern europe\n",
    "southeastern_europe = pd.read_html(str(table[18]))\n",
    "southeastern_europe = pd.DataFrame(southeastern_europe[0])\n",
    "southeastern_europe = southeastern_europe[:-1]"
   ]
  },
  {
   "cell_type": "code",
   "execution_count": 82,
   "metadata": {},
   "outputs": [],
   "source": [
    "# southern europe\n",
    "southern_europe = pd.read_html(str(table[19]))\n",
    "southern_europe = pd.DataFrame(southern_europe[0])\n",
    "southern_europe = southern_europe[:-1]"
   ]
  },
  {
   "cell_type": "code",
   "execution_count": 83,
   "metadata": {},
   "outputs": [],
   "source": [
    "# western europe\n",
    "western_europe = pd.read_html(str(table[20]))\n",
    "western_europe = pd.DataFrame(western_europe[0])\n",
    "western_europe = western_europe[:-1]"
   ]
  },
  {
   "cell_type": "code",
   "execution_count": 84,
   "metadata": {},
   "outputs": [],
   "source": [
    "# australasia\n",
    "australasia = pd.read_html(str(table[21]))\n",
    "australasia = pd.DataFrame(australasia[0])\n",
    "australasia = australasia[:-1]"
   ]
  },
  {
   "cell_type": "code",
   "execution_count": 85,
   "metadata": {},
   "outputs": [],
   "source": [
    "# melanesia\n",
    "melanesia = pd.read_html(str(table[22]))\n",
    "melanesia = pd.DataFrame(melanesia[0])\n",
    "melanesia = melanesia[:-1]"
   ]
  },
  {
   "cell_type": "code",
   "execution_count": 86,
   "metadata": {},
   "outputs": [],
   "source": [
    "# micronesia\n",
    "micronesia = pd.read_html(str(table[23]))\n",
    "micronesia = pd.DataFrame(micronesia[0])\n",
    "micronesia = micronesia[:-1]"
   ]
  },
  {
   "cell_type": "code",
   "execution_count": 87,
   "metadata": {},
   "outputs": [],
   "source": [
    "# polynesia\n",
    "polynesia = pd.read_html(str(table[24]))\n",
    "polynesia = pd.DataFrame(polynesia[0])\n",
    "polynesia = polynesia[:-1]"
   ]
  },
  {
   "cell_type": "code",
   "execution_count": 88,
   "metadata": {},
   "outputs": [],
   "source": [
    "rel = pd.concat([central_africa,eastern_africa,northern_africa,southern_africa,western_africa,\n",
    "                carribean,central_america,north_america,south_america,eastern_asia,southeastern_asia,\n",
    "                southern_asia,central_asia,west_asia,central_europe,eastern_europe,northern_europe,\n",
    "                southeastern_europe,southern_europe,western_europe,australasia,micronesia,polynesia], axis=0).reset_index(drop=True)"
   ]
  },
  {
   "cell_type": "code",
   "execution_count": 89,
   "metadata": {},
   "outputs": [],
   "source": [
    "rel.columns = rel.columns.get_level_values(0)+ rel.columns.get_level_values(1)\n",
    "rel= rel.rename(columns={'CountryCountry': 'Country', 'PopulationPopulation': 'Population'})\n",
    "rel = rel[rel.columns.drop(list(rel.filter(regex='Pop')))]\n",
    "rel = rel.replace({'%':''}, regex=True)"
   ]
  },
  {
   "cell_type": "code",
   "execution_count": 90,
   "metadata": {},
   "outputs": [],
   "source": [
    "rel = rel.replace('< 0.01','0.01').replace('<0.01','0.01')\n",
    "rel = rel.drop(['Religion not stated%', 'Sikh%'], axis=1)\n",
    "rel['Muslim%']=rel['Muslim%'].fillna(0)\n",
    "rel['Hindu%']=rel['Hindu%'].fillna(0)\n",
    "rel['Buddhist%']=rel['Buddhist%'].fillna(0)\n",
    "rel['Folk religion%']=rel['Folk religion%'].fillna(0)\n",
    "rel['Other religion%']=rel['Other religion%'].fillna(0)\n",
    "rel['Jewish%']=rel['Jewish%'].fillna(0)"
   ]
  },
  {
   "cell_type": "code",
   "execution_count": 91,
   "metadata": {},
   "outputs": [],
   "source": [
    "rel['Christian%'] = rel['Christian%'].astype(float).astype(int)\n",
    "rel['Muslim%'] = rel['Muslim%'].astype(float).astype(int)\n",
    "rel['Irreligion%'] = rel['Irreligion%'].astype(float).astype(int)\n",
    "rel['Hindu%'] = rel['Hindu%'].astype(float).astype(int)\n",
    "rel['Buddhist%'] = rel['Buddhist%'].astype(float).astype(int)\n",
    "rel['Folk religion%'] = rel['Folk religion%'].astype(float).astype(int)\n",
    "rel['Other religion%'] = rel['Other religion%'].astype(float).astype(int)\n",
    "rel['Jewish%'] = rel['Jewish%'].astype(float).astype(int)"
   ]
  },
  {
   "cell_type": "code",
   "execution_count": 92,
   "metadata": {},
   "outputs": [
    {
     "name": "stderr",
     "output_type": "stream",
     "text": [
      "<ipython-input-92-e047a1b4c689>:7: SettingWithCopyWarning: \n",
      "A value is trying to be set on a copy of a slice from a DataFrame\n",
      "\n",
      "See the caveats in the documentation: https://pandas.pydata.org/pandas-docs/stable/user_guide/indexing.html#returning-a-view-versus-a-copy\n",
      "  rel['first_rel'][i] = maximum\n"
     ]
    }
   ],
   "source": [
    "rel['first_rel'] = \"\"\n",
    "for i in range(len(rel)):\n",
    "    maximum = rel.iloc[i,1]\n",
    "    for j in range(1,len(rel.columns)-1):\n",
    "        if (maximum < rel.iloc[i,j].astype(int)):\n",
    "            maximum = rel.iloc[i,j]\n",
    "        rel['first_rel'][i] = maximum"
   ]
  },
  {
   "cell_type": "code",
   "execution_count": 93,
   "metadata": {},
   "outputs": [
    {
     "name": "stderr",
     "output_type": "stream",
     "text": [
      "<ipython-input-93-d55acaa1e2ec>:4: SettingWithCopyWarning: \n",
      "A value is trying to be set on a copy of a slice from a DataFrame\n",
      "\n",
      "See the caveats in the documentation: https://pandas.pydata.org/pandas-docs/stable/user_guide/indexing.html#returning-a-view-versus-a-copy\n",
      "  rel['first_rel'][i] = rel.columns[j]\n"
     ]
    }
   ],
   "source": [
    "for i in range(len(rel)):\n",
    "    for j in range(1,len(rel.columns)-1):\n",
    "        if(rel.iloc[i,j]==rel.iloc[i,9]):\n",
    "            rel['first_rel'][i] = rel.columns[j]"
   ]
  },
  {
   "cell_type": "code",
   "execution_count": 94,
   "metadata": {},
   "outputs": [],
   "source": [
    "rel['first_rel'] = rel['first_rel'].str.replace(\"%\",\"\")"
   ]
  },
  {
   "cell_type": "code",
   "execution_count": 95,
   "metadata": {},
   "outputs": [],
   "source": [
    "rel = rel[[\"Country\",\"first_rel\"]]"
   ]
  },
  {
   "cell_type": "code",
   "execution_count": 96,
   "metadata": {},
   "outputs": [
    {
     "name": "stderr",
     "output_type": "stream",
     "text": [
      "<ipython-input-96-035d49247924>:1: FutureWarning: The default value of regex will change from True to False in a future version.\n",
      "  rel['Country'] = rel[\"Country\"].str.replace('\\d+', '').replace('[]','')\n"
     ]
    }
   ],
   "source": [
    "rel['Country'] = rel[\"Country\"].str.replace('\\d+', '').replace('[]','')"
   ]
  },
  {
   "cell_type": "code",
   "execution_count": 97,
   "metadata": {},
   "outputs": [],
   "source": [
    "rel['Country'] = rel['Country'].replace('Bangladesh[]','Bangladesh').replace('India[]','Indie').replace('Pakistan[]','Pakistan').replace('Austria[]','Austria')\n",
    "rel['Country'] = rel['Country'].replace('Czech Republic[]','Czech Republic').replace('Slovakia[]','Slovakia').replace('Bulgaria[]','Bulgaria')\n",
    "rel['Country'] = rel['Country'].replace('Croatia[]','Croatia').replace('North Macedonia[]','North Macedonia').replace('Romania[]','Romania')\n",
    "rel['Country'] = rel['Country'].replace('Ireland[]','Ireland').replace('Isle of Man[]','Isle of Man').replace('Netherlands[a][b]','Netherlands')\n",
    "rel['Country'] = rel['Country'].replace('United Kingdom[][][]','United Kingdom').replace(\"New Zealand[]\",'New Zealand')"
   ]
  },
  {
   "cell_type": "code",
   "execution_count": 111,
   "metadata": {},
   "outputs": [],
   "source": [
    "input_countries = rel['Country']\n",
    "\n",
    "countries = {}\n",
    "for country in pycountry.countries:\n",
    "    countries[country.name] = country.alpha_3\n",
    "\n",
    "codes = [countries.get(country, 'Unknown code') for country in input_countries]\n",
    "rel['country_code'] = codes"
   ]
  },
  {
   "cell_type": "code",
   "execution_count": 116,
   "metadata": {},
   "outputs": [],
   "source": [
    "rel.to_csv('religion.csv')"
   ]
  },
  {
   "cell_type": "code",
   "execution_count": null,
   "metadata": {},
   "outputs": [],
   "source": []
  }
 ],
 "metadata": {
  "kernelspec": {
   "display_name": "Python 3",
   "language": "python",
   "name": "python3"
  },
  "language_info": {
   "codemirror_mode": {
    "name": "ipython",
    "version": 3
   },
   "file_extension": ".py",
   "mimetype": "text/x-python",
   "name": "python",
   "nbconvert_exporter": "python",
   "pygments_lexer": "ipython3",
   "version": "3.8.5"
  }
 },
 "nbformat": 4,
 "nbformat_minor": 4
}
